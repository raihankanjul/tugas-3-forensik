{
 "cells": [
  {
   "cell_type": "code",
   "execution_count": null,
   "metadata": {},
   "outputs": [],
   "source": [
    "import requests\n",
    "import os\n",
    "import base64\n",
    "from PyPDF2 import PdfReader, PdfWriter\n",
    "from reportlab.lib.pagesizes import letter\n",
    "from reportlab.pdfgen import canvas\n",
    "from PIL import Image\n",
    "from io import BytesIO\n",
    "\n",
    "def replace_metadata(metadata):\n",
    "    # Ganti aturan string\n",
    "    return metadata.replace(\"O=S\", \"N=S\")\n",
    "\n",
    "# 1. Periksa metadata pada https://journal.ittelkom-sby.ac.id/jaiit/\n",
    "url = \"https://journal.ittelkom-sby.ac.id/jaiit/article/view/423/212\"\n",
    "response = requests.get(url)\n",
    "old_metadata = response.text\n",
    "\n",
    "# Inisialisasi contoh metadata\n",
    "template = \"JURNAL TEMPLATE ISSN P-ISSN: ISSN 2716-1935 JAIIT dikelola dan diterbitkan oleh LPPM ITTelkom Surabaya Jl. Ketintang No. 156, Surabaya 60231 Jawa Timur, Indonesia Email: [email protected] e-ISSN : 2716-1927; p-ISSN : 2716-1935\"\n",
    "\n",
    "# Convert logo Telkom menjadi base64\n",
    "with open(\"logotelU.png\", \"rb\") as img_file:\n",
    "    encoded_logo = base64.b64encode(img_file.read()).decode()\n",
    "\n",
    "# 2. Kode script, pilih salah satu jurnal PDF, edit metadata, dan sesuaikan dengan paper yang dipilih\n",
    "# Untuk tujuan demonstrasi, kita akan menggunakan file PDF contoh\n",
    "file_pdf = \"tgsjurnal.pdf\"\n",
    "pdf = PdfReader(file_pdf)\n",
    "pdf_baru = PdfWriter()\n",
    "\n",
    "# Tambahkan halaman baru di awal dokumen\n",
    "pdf_baru.add_blank_page(width=letter[0], height=letter[1])  # Tambahkan halaman kosong\n",
    "for page in pdf.pages:\n",
    "    pdf_baru.add_page(page)\n",
    "\n",
    "# Tambahkan halaman baru di akhir dokumen\n",
    "pdf_baru.add_blank_page(width=letter[0], height=letter[1])  # Tambahkan halaman kosong\n",
    "\n",
    "# Simpan PDF yang diubah\n",
    "file_pdf_terubah = \"jurnal_edit.pdf\"\n",
    "with open(file_pdf_terubah, \"wb\") as f:\n",
    "    pdf_baru.write(f)\n",
    "\n",
    "# 3. Dekode script\n",
    "# Output script: 2 file PDF, file PDF asli dan file PDF yang diubah dengan halaman awal dan akhir yang ditambahkan\n",
    "print(\"File PDF Asli:\", file_pdf)\n",
    "print(\"File PDF yang Diubah:\", file_pdf_terubah)"
   ]
  }
 ],
 "metadata": {
  "language_info": {
   "name": "python"
  }
 },
 "nbformat": 4,
 "nbformat_minor": 2
}
